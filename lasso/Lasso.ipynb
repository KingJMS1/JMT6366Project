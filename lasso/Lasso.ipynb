{
 "cells": [
  {
   "cell_type": "code",
   "execution_count": 1,
   "id": "9cb8b50b",
   "metadata": {},
   "outputs": [],
   "source": [
    "import pandas as pd\n",
    "import seaborn as sns\n",
    "import matplotlib.pyplot as plt\n",
    "import parquet\n",
    "import os\n",
    "\n",
    "from sklearn.preprocessing import RobustScaler, OneHotEncoder\n",
    "from sklearn.compose import ColumnTransformer\n",
    "from sklearn.impute import SimpleImputer\n",
    "from sklearn.model_selection import train_test_split\n",
    "from sklearn.pipeline import Pipeline\n",
    "from sklearn.model_selection import KFold\n",
    "from os import mkdir, listdir\n",
    "from os.path import join\n",
    "import numpy as np\n",
    "from pickle import load, dump\n",
    "\n",
    "\n",
    "pd.set_option('display.max_columns', 200)"
   ]
  },
  {
   "cell_type": "code",
   "execution_count": 2,
   "id": "d9775436",
   "metadata": {},
   "outputs": [],
   "source": [
    "from sklearn.linear_model import Lasso\n",
    "from sklearn.model_selection import train_test_split\n",
    "from sklearn.metrics import mean_squared_error"
   ]
  },
  {
   "cell_type": "code",
   "execution_count": 3,
   "id": "00ff2204",
   "metadata": {},
   "outputs": [],
   "source": [
    "filename = pd.read_csv(r\"C:\\Users\\tyler\\OneDrive\\Desktop\\PhD Stuff\\STA 6366\\Final Project\\FinalData.csv\")"
   ]
  },
  {
   "cell_type": "code",
   "execution_count": 4,
   "id": "96a2384c",
   "metadata": {},
   "outputs": [],
   "source": [
    "def addStats(stats, name, var):\n",
    "    stats[name + \"_median\"] = var.median()\n",
    "    stats[name + \"_iqr\"] = var.astype(np.float64).quantile(.75) - var.astype(np.float64).quantile(.25)\n",
    "\n",
    "def getStats(X_train, X_test):\n",
    "    stats = {}\n",
    "    addStats(stats, \"X_train\", X_train)\n",
    "    addStats(stats, \"X_test\", X_test)\n",
    "    \n",
    "    return stats\n",
    "\n",
    "    \n",
    "def get_train_environment(n_splits = 20, filename = r\"C:\\Users\\tyler\\OneDrive\\Desktop\\PhD Stuff\\STA 6366\\Final Project\\FinalData.csv\", seed=4321):\n",
    "    cachedFolds = False\n",
    "    cachedData = False\n",
    "    # If you wish to delete the cache, please delete the entire cache folder\n",
    "    if \"cache\" in listdir():\n",
    "        cachedData = True\n",
    "        if str(n_splits) + \".pickle\" in listdir(\"cache\"):\n",
    "            print(\"Found cached folds, using those\")\n",
    "            cachedFolds = True\n",
    "        else:\n",
    "            print(\"No cached folds found, generating new folds.\")\n",
    "    else:\n",
    "        print(\"No cache found, generating holdout set and folds.\")\n",
    "    \n",
    "    if cachedData == False:\n",
    "        data = None\n",
    "        try:\n",
    "            data = pd.read_csv(filename)\n",
    "            data = data.drop(\"Unnamed: 0\", axis=1)\n",
    "        except:\n",
    "            print(f\"Error, unable to read file {filename}, you can provide the filename via filename = <filename>\")\n",
    "            exit()\n",
    "        \n",
    "        data = data.drop([\"Name\", \"appid\"], axis=1)\n",
    "\n",
    "        pipeline = Pipeline([(\"imputer\", SimpleImputer(strategy=\"median\")), (\"scaler\", RobustScaler())])\n",
    "\n",
    "        X = data.drop(\"ln.pricep1\", axis=1)\n",
    "        y = data[\"ln.pricep1\"]\n",
    "\n",
    "        X_train, X_test, y_train, y_test = train_test_split(X, y, random_state=seed, shuffle=True, test_size=0.05)\n",
    "\n",
    "        X_train_scaled = pipeline.fit_transform(X_train)\n",
    "        X_test_scaled = pipeline.fit_transform(X_test)\n",
    "        \n",
    "        # Needed to reverse the scaling\n",
    "        stats = getStats(X_train, X_test)\n",
    "\n",
    "        mkdir(\"cache\")\n",
    "\n",
    "        with open(join(\"cache\", \"stats_X_scaled.pickle\"), 'wb') as file:\n",
    "            dump([stats, X_train, X_train_scaled, X_test, X_test_scaled, y_train, y_test], file)\n",
    "\n",
    "        yield stats, X_train_scaled, X_test_scaled, y_train, y_test\n",
    "\n",
    "        if n_splits == 20:\n",
    "            print(f\"Using default n_splits = {20}, please change depending on what problem you are solving.\")\n",
    "\n",
    "        kf = KFold(n_splits=n_splits)\n",
    "\n",
    "        toDump = []\n",
    "\n",
    "        i = 0\n",
    "        for train_index, test_index in kf.split(X_train, y_train):\n",
    "            X_folded_train = X_train.iloc[train_index]\n",
    "            y_folded_train = y_train.iloc[train_index]\n",
    "            X_folded_test = X_train.iloc[test_index]\n",
    "            y_folded_test = y_train.iloc[test_index]\n",
    "            stats = getStats(X_folded_train, X_folded_test)\n",
    "\n",
    "            X_folded_train_scaled = pipeline.fit_transform(X_folded_train)\n",
    "            X_folded_test_scaled = pipeline.fit_transform(X_folded_test)\n",
    "\n",
    "            toDump.append((i, stats, (X_folded_train_scaled, X_folded_test_scaled, y_folded_train, y_folded_test)))\n",
    "            yield i, stats, X_folded_train_scaled, X_folded_test_scaled, y_folded_train, y_folded_test\n",
    "            i += 1\n",
    "        \n",
    "        print(\"Dumping KFolds, do not quit program\")\n",
    "        with open(join(\"cache\", str(n_splits) + \".pickle\"), 'wb') as file:\n",
    "            dump(toDump, file)\n",
    "        \n",
    "    elif cachedFolds == False:\n",
    "        pipeline = Pipeline([(\"imputer\", SimpleImputer(strategy=\"median\")), (\"scaler\", RobustScaler())])\n",
    "\n",
    "        cachedData = None\n",
    "\n",
    "        with open(join(\"cache\", \"stats_X_scaled.pickle\"), 'rb') as file:\n",
    "            cachedData = load(file)\n",
    "\n",
    "        stats, X_train, X_train_scaled, X_test, X_test_scaled, y_train, y_test = cachedData\n",
    "\n",
    "        yield stats, X_train_scaled, X_test_scaled, y_train, y_test\n",
    "\n",
    "        if n_splits == 20:\n",
    "            print(f\"Using default n_splits = {20}, please change depending on what problem you are solving.\")\n",
    "\n",
    "        kf = KFold(n_splits=n_splits)\n",
    "\n",
    "        toDump = []\n",
    "\n",
    "        i = 0\n",
    "        for train_index, test_index in kf.split(X_train, y_train):\n",
    "            X_folded_train = X_train.iloc[train_index]\n",
    "            y_folded_train = y_train.iloc[train_index]\n",
    "            X_folded_test = X_train.iloc[test_index]\n",
    "            y_folded_test = y_train.iloc[test_index]\n",
    "            stats = getStats(X_folded_train, X_folded_test)\n",
    "\n",
    "            X_folded_train_scaled = pipeline.fit_transform(X_folded_train)\n",
    "            X_folded_test_scaled = pipeline.fit_transform(X_folded_test)\n",
    "\n",
    "            toDump.append((i, stats, (X_folded_train_scaled, X_folded_test_scaled, y_folded_train, y_folded_test)))\n",
    "            yield i, stats, X_folded_train_scaled, X_folded_test_scaled, y_folded_train, y_folded_test\n",
    "            i += 1\n",
    "        \n",
    "        print(\"Dumping KFolds, do not quit program\")\n",
    "        with open(join(\"cache\", str(n_splits) + \".pickle\"), 'wb') as file:\n",
    "            dump(toDump, file)\n",
    "        \n",
    "    \n",
    "    else:\n",
    "        cachedData = None\n",
    "\n",
    "        with open(join(\"cache\", \"stats_X_scaled.pickle\"), 'rb') as file:\n",
    "            cachedData = load(file)\n",
    "\n",
    "        stats, X_train, X_train_scaled, X_test, X_test_scaled, y_train, y_test = cachedData\n",
    "\n",
    "        yield stats, X_train_scaled, X_test_scaled, y_train, y_test\n",
    "\n",
    "        if n_splits == 20:\n",
    "            print(f\"Using default n_splits = {20}, please change depending on what problem you are solving.\")\n",
    "\n",
    "        dataDump = None\n",
    "\n",
    "        with open(join(\"cache\", str(n_splits) + \".pickle\"), 'rb') as file:\n",
    "            dataDump = load(file)\n",
    "\n",
    "        for fold, stats, dat in dataDump:\n",
    "            X_folded_train_scaled, X_folded_test_scaled, y_folded_train, y_folded_test = dat\n",
    "            yield fold, stats, X_folded_train_scaled, X_folded_test_scaled, y_folded_train, y_folded_test\n"
   ]
  },
  {
   "cell_type": "code",
   "execution_count": 15,
   "id": "900bee41",
   "metadata": {
    "scrolled": true
   },
   "outputs": [],
   "source": [
    "envGen = get_train_environment(n_splits=10, seed = 42)"
   ]
  },
  {
   "cell_type": "code",
   "execution_count": 4,
   "id": "316238ce",
   "metadata": {},
   "outputs": [],
   "source": [
    "from sklearn.linear_model import Lasso\n",
    "from sklearn.metrics import mean_squared_error\n",
    "from sklearn.linear_model import LassoCV"
   ]
  },
  {
   "cell_type": "code",
   "execution_count": 5,
   "id": "8aef7bd6",
   "metadata": {},
   "outputs": [],
   "source": [
    "data = filename\n",
    "data = data.drop([\"Name\", \"appid\", 'ln.pricep1', \"Unnamed: 0\"], axis=1)\n",
    "data_columns = data.columns.tolist()"
   ]
  },
  {
   "cell_type": "code",
   "execution_count": 247,
   "id": "cf5c4caa",
   "metadata": {},
   "outputs": [
    {
     "name": "stdout",
     "output_type": "stream",
     "text": [
      "Found cached folds, using those\n",
      "Fold: 0\n",
      "Fold: 1\n",
      "Fold: 2\n",
      "Fold: 3\n",
      "Fold: 4\n",
      "Fold: 5\n",
      "Fold: 6\n",
      "Fold: 7\n",
      "Fold: 8\n",
      "Fold: 9\n"
     ]
    }
   ],
   "source": [
    "stats, X_train, X_holdout, y_train, y_holdout = next(envGen)\n",
    "\n",
    "\n",
    "alphas = np.logspace(-5, -2, 50)\n",
    "\n",
    "#loop for alphas \n",
    "#for each alpha\n",
    "#for each fold calculate MSE for given alpha\n",
    "#save all MSEs in a list\n",
    "#calculate the average MSE for a given alpha over the folds\n",
    "#save in list\n",
    "#graph it and get \"optimal alpha\"\n",
    "#fit and get MSE\n",
    "\n",
    "#fit on X_train and y_train from above and get features\n",
    "\n",
    "mse_dict = {alpha: [] for alpha in alphas}\n",
    "\n",
    "for fold, stats, X_train_fold, X_test_fold, y_train_fold, y_test_fold in envGen:\n",
    "    print(f\"Fold: {fold}\")\n",
    "\n",
    "    #for each fold use one alpha and fit to the fold\n",
    "    #predict y_pred and calculate MSE \n",
    "    for alpha in alphas:\n",
    "        lasso_model = Lasso(alpha=alpha)\n",
    "        lasso_model.fit(X_train_fold, y_train_fold)\n",
    "\n",
    "        y_pred = lasso_model.predict(X_test_fold)\n",
    "\n",
    "        mse = mean_squared_error(y_test_fold, y_pred)\n",
    "        mse_dict[alpha].append(mse)\n",
    "\n",
    "\n"
   ]
  },
  {
   "cell_type": "code",
   "execution_count": null,
   "id": "5620967c",
   "metadata": {},
   "outputs": [],
   "source": []
  },
  {
   "cell_type": "code",
   "execution_count": 304,
   "id": "e2f8d367",
   "metadata": {},
   "outputs": [
    {
     "data": {
      "image/png": "[encoded data removed]",
      "text/plain": [
       "<Figure size 640x480 with 1 Axes>"
      ]
     },
     "metadata": {},
     "output_type": "display_data"
    }
   ],
   "source": [
    "# Calculate the average MSE for each alpha\n",
    "average_mse_dict = {alpha: np.mean(mse_values) for alpha, mse_values in mse_dict.items()}\n",
    "\n",
    "# Plot the average MSE vs alpha\n",
    "plt.plot(np.log10(list(average_mse_dict.keys())), list(average_mse_dict.values()), marker='o', linestyle='-', label='Average MSE')\n",
    "plt.xlabel('Alpha')\n",
    "plt.ylabel('Average Mean Squared Error')\n",
    "plt.title('Average MSE vs Alpha')\n",
    "plt.legend()\n",
    "plt.savefig('MSE vs Alpha.png')\n",
    "plt.show()\n"
   ]
  },
  {
   "cell_type": "code",
   "execution_count": 8,
   "id": "d13cf365",
   "metadata": {},
   "outputs": [],
   "source": [
    "average_mse_df = pd.read_csv(r'C:\\Users\\tyler\\OneDrive\\Desktop\\PhD Stuff\\STA 6366\\Final Project\\Code\\lasso_and_MSE.csv')"
   ]
  },
  {
   "cell_type": "code",
   "execution_count": 11,
   "id": "66b5470f",
   "metadata": {},
   "outputs": [
    {
     "name": "stdout",
     "output_type": "stream",
     "text": [
      "      Alpha  Average MSE\n",
      "17  0.00011     0.389799\n"
     ]
    }
   ],
   "source": [
    "print(average_mse_df.loc[average_mse_df['Average MSE']==average_mse_df['Average MSE'].min(),:])"
   ]
  },
  {
   "cell_type": "code",
   "execution_count": 13,
   "id": "cc5610fb",
   "metadata": {},
   "outputs": [],
   "source": [
    "min_mse_alpha=0.00010985411419875583"
   ]
  },
  {
   "cell_type": "code",
   "execution_count": 16,
   "id": "5406dab5",
   "metadata": {},
   "outputs": [
    {
     "name": "stdout",
     "output_type": "stream",
     "text": [
      "Found cached folds, using those\n"
     ]
    }
   ],
   "source": [
    "stats, X_train, X_holdout, y_train, y_holdout = next(envGen)"
   ]
  },
  {
   "cell_type": "code",
   "execution_count": 17,
   "id": "ae885a4f",
   "metadata": {},
   "outputs": [
    {
     "data": {
      "text/html": [
       "<style>#sk-container-id-1 {color: black;background-color: white;}#sk-container-id-1 pre{padding: 0;}#sk-container-id-1 div.sk-toggleable {background-color: white;}#sk-container-id-1 label.sk-toggleable__label {cursor: pointer;display: block;width: 100%;margin-bottom: 0;padding: 0.3em;box-sizing: border-box;text-align: center;}#sk-container-id-1 label.sk-toggleable__label-arrow:before {content: \"▸\";float: left;margin-right: 0.25em;color: #696969;}#sk-container-id-1 label.sk-toggleable__label-arrow:hover:before {color: black;}#sk-container-id-1 div.sk-estimator:hover label.sk-toggleable__label-arrow:before {color: black;}#sk-container-id-1 div.sk-toggleable__content {max-height: 0;max-width: 0;overflow: hidden;text-align: left;background-color: #f0f8ff;}#sk-container-id-1 div.sk-toggleable__content pre {margin: 0.2em;color: black;border-radius: 0.25em;background-color: #f0f8ff;}#sk-container-id-1 input.sk-toggleable__control:checked~div.sk-toggleable__content {max-height: 200px;max-width: 100%;overflow: auto;}#sk-container-id-1 input.sk-toggleable__control:checked~label.sk-toggleable__label-arrow:before {content: \"▾\";}#sk-container-id-1 div.sk-estimator input.sk-toggleable__control:checked~label.sk-toggleable__label {background-color: #d4ebff;}#sk-container-id-1 div.sk-label input.sk-toggleable__control:checked~label.sk-toggleable__label {background-color: #d4ebff;}#sk-container-id-1 input.sk-hidden--visually {border: 0;clip: rect(1px 1px 1px 1px);clip: rect(1px, 1px, 1px, 1px);height: 1px;margin: -1px;overflow: hidden;padding: 0;position: absolute;width: 1px;}#sk-container-id-1 div.sk-estimator {font-family: monospace;background-color: #f0f8ff;border: 1px dotted black;border-radius: 0.25em;box-sizing: border-box;margin-bottom: 0.5em;}#sk-container-id-1 div.sk-estimator:hover {background-color: #d4ebff;}#sk-container-id-1 div.sk-parallel-item::after {content: \"\";width: 100%;border-bottom: 1px solid gray;flex-grow: 1;}#sk-container-id-1 div.sk-label:hover label.sk-toggleable__label {background-color: #d4ebff;}#sk-container-id-1 div.sk-serial::before {content: \"\";position: absolute;border-left: 1px solid gray;box-sizing: border-box;top: 0;bottom: 0;left: 50%;z-index: 0;}#sk-container-id-1 div.sk-serial {display: flex;flex-direction: column;align-items: center;background-color: white;padding-right: 0.2em;padding-left: 0.2em;position: relative;}#sk-container-id-1 div.sk-item {position: relative;z-index: 1;}#sk-container-id-1 div.sk-parallel {display: flex;align-items: stretch;justify-content: center;background-color: white;position: relative;}#sk-container-id-1 div.sk-item::before, #sk-container-id-1 div.sk-parallel-item::before {content: \"\";position: absolute;border-left: 1px solid gray;box-sizing: border-box;top: 0;bottom: 0;left: 50%;z-index: -1;}#sk-container-id-1 div.sk-parallel-item {display: flex;flex-direction: column;z-index: 1;position: relative;background-color: white;}#sk-container-id-1 div.sk-parallel-item:first-child::after {align-self: flex-end;width: 50%;}#sk-container-id-1 div.sk-parallel-item:last-child::after {align-self: flex-start;width: 50%;}#sk-container-id-1 div.sk-parallel-item:only-child::after {width: 0;}#sk-container-id-1 div.sk-dashed-wrapped {border: 1px dashed gray;margin: 0 0.4em 0.5em 0.4em;box-sizing: border-box;padding-bottom: 0.4em;background-color: white;}#sk-container-id-1 div.sk-label label {font-family: monospace;font-weight: bold;display: inline-block;line-height: 1.2em;}#sk-container-id-1 div.sk-label-container {text-align: center;}#sk-container-id-1 div.sk-container {/* jupyter's `normalize.less` sets `[hidden] { display: none; }` but bootstrap.min.css set `[hidden] { display: none !important; }` so we also need the `!important` here to be able to override the default hidden behavior on the sphinx rendered scikit-learn.org. See: https://github.com/scikit-learn/scikit-learn/issues/21755 */display: inline-block !important;position: relative;}#sk-container-id-1 div.sk-text-repr-fallback {display: none;}</style><div id=\"sk-container-id-1\" class=\"sk-top-container\"><div class=\"sk-text-repr-fallback\"><pre>Lasso(alpha=0.00010985411419875583)</pre><b>In a Jupyter environment, please rerun this cell to show the HTML representation or trust the notebook. <br />On GitHub, the HTML representation is unable to render, please try loading this page with nbviewer.org.</b></div><div class=\"sk-container\" hidden><div class=\"sk-item\"><div class=\"sk-estimator sk-toggleable\"><input class=\"sk-toggleable__control sk-hidden--visually\" id=\"sk-estimator-id-1\" type=\"checkbox\" checked><label for=\"sk-estimator-id-1\" class=\"sk-toggleable__label sk-toggleable__label-arrow\">Lasso</label><div class=\"sk-toggleable__content\"><pre>Lasso(alpha=0.00010985411419875583)</pre></div></div></div></div></div>"
      ],
      "text/plain": [
       "Lasso(alpha=0.00010985411419875583)"
      ]
     },
     "execution_count": 17,
     "metadata": {},
     "output_type": "execute_result"
    }
   ],
   "source": [
    "lasso_model_final = Lasso(alpha=min_mse_alpha)\n",
    "lasso_model_final.fit(X_train, y_train)"
   ]
  },
  {
   "cell_type": "code",
   "execution_count": 23,
   "id": "af21d0ed",
   "metadata": {},
   "outputs": [],
   "source": [
    "coefs_df = pd.DataFrame({'Feature': data_columns, 'Coefficient': lasso_coefs})"
   ]
  },
  {
   "cell_type": "code",
   "execution_count": 28,
   "id": "2e4b191d",
   "metadata": {},
   "outputs": [],
   "source": [
    "coefs_df.to_parquet('AllCoefficients.parquet', engine = 'fastparquet')"
   ]
  },
  {
   "cell_type": "code",
   "execution_count": 24,
   "id": "ac9c4fdd",
   "metadata": {},
   "outputs": [],
   "source": [
    "coefs_df_filtered = coefs_df[coefs_df['Coefficient'] != 0]"
   ]
  },
  {
   "cell_type": "code",
   "execution_count": null,
   "id": "2e073cc9",
   "metadata": {},
   "outputs": [],
   "source": [
    "coefs_df_filtered_sorted = coefs_df_filtered.reindex(coefs_df_filtered['Coefficient'].sort_values(ascending=False).index)"
   ]
  },
  {
   "cell_type": "code",
   "execution_count": 30,
   "id": "ffe64728",
   "metadata": {},
   "outputs": [],
   "source": [
    "coefs_df_filtered_sorted.to_parquet('ImportantFeatures.parquet', engine = 'fastparquet')"
   ]
  },
  {
   "cell_type": "code",
   "execution_count": 31,
   "id": "cb6cd2e0",
   "metadata": {},
   "outputs": [
    {
     "name": "stdout",
     "output_type": "stream",
     "text": [
      "                                Feature  Coefficient\n",
      "1519                  tag_Voice Control     0.834572\n",
      "1240                        tag_Archery     0.687734\n",
      "1254                           tag_Pool     0.537271\n",
      "1563                      ln.curatorsp1     0.472548\n",
      "778                          tag_Tennis     0.399504\n",
      "...                                 ...          ...\n",
      "1271                     tag_Werewolves    -0.618809\n",
      "1320                           tag_Snow    -0.748576\n",
      "68             Profile Features Limited    -0.993886\n",
      "116                    tag_Free to Play    -1.346809\n",
      "803   Steam is learning about this game    -1.470896\n",
      "\n",
      "[368 rows x 2 columns]\n"
     ]
    }
   ],
   "source": [
    "#Filter dev and pub to see which features have importance outside of those\n",
    "coefs_df_filtered_sorted_filtered = coefs_df_filtered_sorted[~coefs_df_filtered_sorted['Feature'].str.contains('dev_|pub_')]\n",
    "print(coefs_df_filtered_sorted_filtered)"
   ]
  },
  {
   "cell_type": "code",
   "execution_count": 32,
   "id": "9ebe9c63",
   "metadata": {},
   "outputs": [],
   "source": [
    "coefs_df_filtered_sorted_filtered.to_parquet('NoPubDevFeatures.parquet', engine = 'fastparquet')"
   ]
  },
  {
   "cell_type": "code",
   "execution_count": null,
   "id": "e4bd0762",
   "metadata": {},
   "outputs": [],
   "source": []
  }
 ],
 "metadata": {
  "kernelspec": {
   "display_name": "Python 3 (ipykernel)",
   "language": "python",
   "name": "python3"
  },
  "language_info": {
   "codemirror_mode": {
    "name": "ipython",
    "version": 3
   },
   "file_extension": ".py",
   "mimetype": "text/x-python",
   "name": "python",
   "nbconvert_exporter": "python",
   "pygments_lexer": "ipython3",
   "version": "3.10.9"
  }
 },
 "nbformat": 4,
 "nbformat_minor": 5
}
